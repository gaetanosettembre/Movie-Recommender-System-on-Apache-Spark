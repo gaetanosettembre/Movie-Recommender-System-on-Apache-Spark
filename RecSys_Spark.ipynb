{
 "cells": [
  {
   "cell_type": "markdown",
   "metadata": {},
   "source": [
    "# <center>Movies Recommender System (on MovieLens 25M)</center>\n",
    "Al giorno d'oggi un qualsiasi utente è inondato di scelte quando è in procinto di acquistare, visualizzare, nolleggiare contenuti di qualsiasi tipo. Capita di perdere molto tempo a navigare gli ormai infiniti cataloghi di piattaforme come Netflix, Spotify, Amazon con il fine di trovare qualcosa che soddisfi i propri gusti; e se anche dopo aver consultato non si è riusciti a trovare nulla di interessante, il cliente potrebbe perdere interesse nella piattaforma o addirittura abbandonarla.\n",
    "\n",
    "Uno degli usi più comuni dei Big Data è proprio prevedere cosa, un insieme o un singolo utente, possa desiderare. \n",
    "É proprio avendo in mente questo scenario si cercherà di costruire un sistema di raccomandazione basato su Apache Spark che possa aiutare gli utenti nel trovare e scegliere dei film, migliorando la loro esperienza, creando coinvolgimento e generando più entrate per il provider del servizio.\n",
    "\n",
    "Si inizierà con alcune tecniche di base costruendo un Popularity-Based Recommender System e successivamente, grazie all'utilizzo della libreria Spark ML, si cercherà di effettuare previsioni più sofisticate, personalizzate e mirate per ogni singolo utente.\n",
    "\n",
    "Per questo caso di studio utilizzeremo i dati proveniente dal famoso dataset \"MovieLens 25ml\", il quale contiene 25 milioni di valutazioni (ratings). Il dataset completo è scaricabile dal seguente link: https://grouplens.org/datasets/movielens/25m/."
   ]
  },
  {
   "cell_type": "markdown",
   "metadata": {},
   "source": [
    "##### Configurazione Apache Spark"
   ]
  },
  {
   "cell_type": "code",
   "execution_count": 1,
   "metadata": {},
   "outputs": [],
   "source": [
    "import findspark\n",
    "findspark.init() # Inserire path Spark se non è presente tra le variabili d'ambiente\n",
    "\n",
    "from pyspark.sql import SparkSession, SQLContext\n",
    "from pyspark.sql import Row\n",
    "from pyspark.sql.functions import *"
   ]
  },
  {
   "cell_type": "code",
   "execution_count": 2,
   "metadata": {},
   "outputs": [],
   "source": [
    "spark = SparkSession \\\n",
    "    .builder \\\n",
    "    .master(\"local[*]\") \\\n",
    "    .appName(\"MovieRecommenderSystem\") \\\n",
    "    .config(\"spark.executor.memory\", \"16gb\") \\\n",
    "    .config(\"spark.driver.memory\", \"16G\") \\\n",
    "    .config(\"spark.driver.offHeap.enabled\", \"true\") \\\n",
    "    .config(\"spark.driver.offHeap.size\", \"16G\") \\\n",
    "    .config(\"spark.executor.maxResultSize\", \"16gb\") \\\n",
    "    .getOrCreate()"
   ]
  },
  {
   "cell_type": "code",
   "execution_count": 3,
   "metadata": {
    "scrolled": true
   },
   "outputs": [],
   "source": [
    "# Controllo configurazione\n",
    "# spark.sparkContext.getConf().getAll()"
   ]
  },
  {
   "cell_type": "code",
   "execution_count": 3,
   "metadata": {},
   "outputs": [],
   "source": [
    "from pyspark.context import SparkContext\n",
    "sc = spark.sparkContext\n",
    "sc.setCheckpointDir(r'.\\checkpoints')"
   ]
  },
  {
   "cell_type": "markdown",
   "metadata": {},
   "source": [
    "### Datasets"
   ]
  },
  {
   "cell_type": "markdown",
   "metadata": {},
   "source": [
    "Come detto in precedenza si è deciso di utilizzare MovieLens nella versione 25 milioni di ratings, dataset contenente dati a partire dal 9 gennaio 1995 fino al 21 novembre 2019.\n",
    "Nella pagina ufficiale si può leggere che gli utenti inclusi nel dataset sono stati selezionati casualmente, con l'unico vincolo che avessero espresso un giudizio su almeno venti film differenti. Non sono presenti informazioni demografiche riguardanti gli utenti che sono rappresentati solo mediante un semplice ID.\n",
    "\n",
    "Si può notare la presenza di ulteriori file csv che si è deciso di importare e utilizzare (movies.csv e links.csv) per ricavare ulteriori informazioni come titolo, genere o codici indenfiticativi per estrapolare e visualizzare le locandine dei film da siti del settore come https://www.themoviedb.org/ o https://www.imdb.com/."
   ]
  },
  {
   "cell_type": "code",
   "execution_count": 4,
   "metadata": {},
   "outputs": [],
   "source": [
    "ratings = spark.read.load(r\".\\ml-25m\\ratings.csv\", format=\"csv\", sep=\",\", inferSchema=\"true\", header=\"true\")\n",
    "links = spark.read.load(r\".\\ml-25m\\links.csv\", format=\"csv\", sep=\",\", inferSchema=\"true\", header=\"true\")\n",
    "movies = spark.read.load(r\".\\ml-25m\\movies.csv\", format=\"csv\", sep=\",\", inferSchema=\"true\", header=\"true\")"
   ]
  },
  {
   "cell_type": "code",
   "execution_count": 6,
   "metadata": {},
   "outputs": [
    {
     "name": "stdout",
     "output_type": "stream",
     "text": [
      "+------+-------+------+----------+\n",
      "|userId|movieId|rating| timestamp|\n",
      "+------+-------+------+----------+\n",
      "|     1|    296|   5.0|1147880044|\n",
      "|     1|    306|   3.5|1147868817|\n",
      "|     1|    307|   5.0|1147868828|\n",
      "|     1|    665|   5.0|1147878820|\n",
      "|     1|    899|   3.5|1147868510|\n",
      "+------+-------+------+----------+\n",
      "only showing top 5 rows\n",
      "\n",
      "+-------+----------------------------------+-------------------------------------------+\n",
      "|movieId|title                             |genres                                     |\n",
      "+-------+----------------------------------+-------------------------------------------+\n",
      "|1      |Toy Story (1995)                  |Adventure|Animation|Children|Comedy|Fantasy|\n",
      "|2      |Jumanji (1995)                    |Adventure|Children|Fantasy                 |\n",
      "|3      |Grumpier Old Men (1995)           |Comedy|Romance                             |\n",
      "|4      |Waiting to Exhale (1995)          |Comedy|Drama|Romance                       |\n",
      "|5      |Father of the Bride Part II (1995)|Comedy                                     |\n",
      "+-------+----------------------------------+-------------------------------------------+\n",
      "only showing top 5 rows\n",
      "\n",
      "+-------+------+------+\n",
      "|movieId|imdbId|tmdbId|\n",
      "+-------+------+------+\n",
      "|      1|114709|   862|\n",
      "|      2|113497|  8844|\n",
      "|      3|113228| 15602|\n",
      "|      4|114885| 31357|\n",
      "|      5|113041| 11862|\n",
      "+-------+------+------+\n",
      "only showing top 5 rows\n",
      "\n"
     ]
    }
   ],
   "source": [
    "ratings.show(5)\n",
    "movies.show(5, truncate=False)\n",
    "links.show(5)"
   ]
  },
  {
   "cell_type": "code",
   "execution_count": 5,
   "metadata": {},
   "outputs": [],
   "source": [
    "ratings.createOrReplaceTempView(\"ratings\")\n",
    "links.createOrReplaceTempView(\"links\")\n",
    "movies.createOrReplaceTempView(\"movies\")"
   ]
  },
  {
   "cell_type": "markdown",
   "metadata": {},
   "source": [
    "#### EDA (Exploratory Data Analysis)"
   ]
  },
  {
   "cell_type": "code",
   "execution_count": 8,
   "metadata": {},
   "outputs": [],
   "source": [
    "import pandas as pd\n",
    "import matplotlib.ticker as mticker\n",
    "import matplotlib.pyplot as plt\n",
    "import seaborn as sns\n",
    "plt.style.use('seaborn')\n",
    "sns.set_style(\"whitegrid\")\n",
    "sns.set_palette(\"pastel\")"
   ]
  },
  {
   "cell_type": "code",
   "execution_count": 9,
   "metadata": {},
   "outputs": [
    {
     "name": "stdout",
     "output_type": "stream",
     "text": [
      "Number of ratings: 25000095\n",
      "Number of users:  162541\n",
      "Number of Movies:  62423\n"
     ]
    }
   ],
   "source": [
    "print(\"Number of ratings:\", ratings.count())\n",
    "print(\"Number of users: \", ratings.select(countDistinct(\"userId\")).first()[0])\n",
    "print(\"Number of Movies: \", movies.count())"
   ]
  },
  {
   "cell_type": "code",
   "execution_count": 10,
   "metadata": {},
   "outputs": [],
   "source": [
    "ratingCount = ratings.groupBy(\"rating\").count().orderBy(col(\"count\").desc())\n",
    "ratings_count_pd = ratingCount.toPandas()"
   ]
  },
  {
   "cell_type": "code",
   "execution_count": 11,
   "metadata": {
    "scrolled": false
   },
   "outputs": [
    {
     "name": "stdout",
     "output_type": "stream",
     "text": [
      "+------+-------+\n",
      "|rating|  count|\n",
      "+------+-------+\n",
      "|   4.0|6639798|\n",
      "|   3.0|4896928|\n",
      "|   5.0|3612474|\n",
      "|   3.5|3177318|\n",
      "|   4.5|2200539|\n",
      "|   2.0|1640868|\n",
      "|   2.5|1262797|\n",
      "|   1.0| 776815|\n",
      "|   1.5| 399490|\n",
      "|   0.5| 393068|\n",
      "+------+-------+\n",
      "\n"
     ]
    },
    {
     "data": {
      "image/png": "[encoded data removed]",
      "text/plain": [
       "<Figure size 864x432 with 1 Axes>"
      ]
     },
     "metadata": {},
     "output_type": "display_data"
    }
   ],
   "source": [
    "ratingCount.show()\n",
    "\n",
    "fig, ax = plt.subplots(figsize=(12,6))\n",
    "sns.barplot(data=ratings_count_pd, x=\"rating\", y=\"count\", palette=\"RdYlGn\", edgecolor=\"grey\", ax=ax)\n",
    "ax.set_xlabel(\"Ratings\")\n",
    "ax.set_ylabel(\"Frequency\")\n",
    "ax.set_title(\"Conteggio ratings assegnati\")\n",
    "\n",
    "ticks_loc = ax.get_yticks().tolist()\n",
    "ax.yaxis.set_major_locator(mticker.FixedLocator(ticks_loc))\n",
    "ax.set_yticklabels([\"{:,}\".format(int(x)) for x in ticks_loc])\n",
    "\n",
    "plt.show()"
   ]
  },
  {
   "cell_type": "markdown",
   "metadata": {},
   "source": [
    "Come possiamo notare sia dalla figura che dalla tabella, i ratings dati con maggiore frequenza dagli utenti presenti nel dataset, sono valutazioni per lo più positive. Questa cosa non sorprende molto gli esperti del settore in quanto a livello psicologico un utente è più propenso a lasciare una valutazione quando il suo giudizio sull'item in questione è positivo. "
   ]
  },
  {
   "cell_type": "code",
   "execution_count": 12,
   "metadata": {},
   "outputs": [],
   "source": [
    "DFRatings_pd = ratings.toPandas() #conversione spark.Dataframe in pandas.Dataframe per facilità creazione grafici"
   ]
  },
  {
   "cell_type": "code",
   "execution_count": 13,
   "metadata": {
    "scrolled": true
   },
   "outputs": [
    {
     "data": {
      "image/png": "[encoded data removed]",
      "text/plain": [
       "<Figure size 1440x432 with 2 Axes>"
      ]
     },
     "metadata": {},
     "output_type": "display_data"
    }
   ],
   "source": [
    "fig, (ax1, ax2) = plt.subplots(1, 2)\n",
    "fig.set_size_inches(20, 6)\n",
    "userRatingCount = DFRatings_pd.groupby(\"userId\")['rating'].count() # userRatingGroup è una Series (index=userId,value=n_ratings)\n",
    "userRatingCount.hist(bins=150, color=\"orange\", edgecolor=\"orange\",linewidth=1, alpha=0.78, ax=ax1)\n",
    "ax1.set_xlabel(\"Number of Ratings per User\")\n",
    "ax1.set_ylabel(\"Frequency\")\n",
    "ax1.set_xlim(0.0)\n",
    "\n",
    "ticks_loc = ax1.get_xticks().tolist()\n",
    "ax1.xaxis.set_major_locator(mticker.FixedLocator(ticks_loc))\n",
    "ax1.set_xticklabels(['{:,}'.format(int(x)) for x in ticks_loc])\n",
    "\n",
    "ticks_loc = ax1.get_yticks().tolist()\n",
    "ax1.yaxis.set_major_locator(mticker.FixedLocator(ticks_loc))\n",
    "ax1.set_yticklabels(['{:,}'.format(int(x)) for x in ticks_loc])\n",
    "\n",
    "\n",
    "movieRatingCount = DFRatings_pd.groupby(\"movieId\")['rating'].count() # movieRatingGroup è Series(index=movieId,value=n_ratings)\n",
    "movieRatingCount.hist(bins=150, color=\"orange\", edgecolor=\"orange\",linewidth=1, alpha=0.78, ax=ax2)\n",
    "ax2.set_xlabel('Number of Ratings per Movie')\n",
    "ax2.set_ylabel(\"Frequency\")\n",
    "ax2.set_xlim(0.0)\n",
    "\n",
    "ticks_loc = ax2.get_xticks().tolist()\n",
    "ax2.xaxis.set_major_locator(mticker.FixedLocator(ticks_loc))\n",
    "ax2.set_xticklabels(['{:,}'.format(int(x)) for x in ticks_loc])\n",
    "\n",
    "ticks_loc = ax2.get_yticks().tolist()\n",
    "ax2.yaxis.set_major_locator(mticker.FixedLocator(ticks_loc))\n",
    "ax2.set_yticklabels(['{:,}'.format(int(x)) for x in ticks_loc])\n",
    "\n",
    "plt.show()"
   ]
  },
  {
   "cell_type": "markdown",
   "metadata": {},
   "source": [
    "Quelli generati nello snippet precedente sono due grafici apparentemente simili ma con significato molto diverso: quello a sinistra ci mostra come un numero quasi insignificante di utenti esprime un numero elevatissimo di giudizi, mentre dal grafico a destra possiamo affermare che moltissimi film hanno un numero basso di ratings (long tail). "
   ]
  },
  {
   "cell_type": "code",
   "execution_count": 14,
   "metadata": {},
   "outputs": [
    {
     "name": "stdout",
     "output_type": "stream",
     "text": [
      "L'utente con ID: 72315 ha votato 32202 volte\n",
      "L'utente con ID: 51 ha votato 20 volte\n"
     ]
    }
   ],
   "source": [
    "print(\"L'utente con ID: {} ha votato {} volte\".format(userRatingCount.idxmax(), userRatingCount.max()))\n",
    "print(\"L'utente con ID: {} ha votato {} volte\".format(userRatingCount.idxmin(), userRatingCount.min()))"
   ]
  },
  {
   "cell_type": "code",
   "execution_count": 15,
   "metadata": {},
   "outputs": [
    {
     "name": "stdout",
     "output_type": "stream",
     "text": [
      "Il film con ID: 356 è stato votato 81491 volte\n",
      "Il film con ID: 1847 è stato votato 1 volte\n"
     ]
    }
   ],
   "source": [
    "print(\"Il film con ID: {} è stato votato {} volte\".format(movieRatingCount.idxmax(), movieRatingCount.max())) #Forrest Gump\n",
    "print(\"Il film con ID: {} è stato votato {} volte\".format(movieRatingCount.idxmin(), movieRatingCount.min())) #Ratchet (1996)"
   ]
  },
  {
   "cell_type": "markdown",
   "metadata": {},
   "source": [
    "##### Funzione ausiliaria per la visualizzazione delle locandine"
   ]
  },
  {
   "cell_type": "markdown",
   "metadata": {},
   "source": [
    "Per una visualizzazione più accattivante delle raccomandazioni si sono utilizzate le API fornite da tmdb. Si è potuto fare ciò grazie alla presenza nel file links.csv degli identificativi univoci di ogni singolo film. Si è creata una funzione richiamabile ogni volta che oltre la classica visualizzazzione tabulare si desideri ricavare le locandine del film in questione. Le locandine visualizzate in output sono tutte cliccabili, si verrà reinderizzati alla relativa scheda in modo tale da ottenere ulteriori informazioni."
   ]
  },
  {
   "cell_type": "code",
   "execution_count": 16,
   "metadata": {},
   "outputs": [],
   "source": [
    "from tmdbv3api import TMDb\n",
    "from IPython.core.display import display, HTML\n",
    "\n",
    "tmdb = TMDb()\n",
    "tmdb.language = 'it'\n",
    "\n",
    "tmdb.api_key = '9bf92fa8dc6f2cba2c9581d4298d29ed'\n",
    "from tmdbv3api import Movie"
   ]
  },
  {
   "cell_type": "code",
   "execution_count": 17,
   "metadata": {},
   "outputs": [],
   "source": [
    "def stampaLocandine(movieList):\n",
    "    movieApi=Movie()\n",
    "    html='<table><tr>'\n",
    "    i=0\n",
    "    for film in movieList:\n",
    "        # html+='<th><div>'+ p.title +'</div>'\n",
    "        try:\n",
    "            movie = movieApi.details(film.tmdbId)\n",
    "            html+='<th>'\n",
    "            html+='<a href=\"https://www.themoviedb.org/movie/'+ str(movie.id) +'\" title=\"'+ str(movie.title) +'\" target=\"_blank\"><img src=\"https://image.tmdb.org/t/p/w200'+str(movie.poster_path)+'\"></a></th>'\n",
    "        except:\n",
    "            html+='<th>'\n",
    "            html+='<h3 style=\"text-align: center\">'+ str(film.title) +'</h3><br><div style=\"text-align: center\">(risorsa non trovata)</div></th>'\n",
    "        i+=1\n",
    "        if i==5:\n",
    "            html+='</tr><tr>'\n",
    "            i=0\n",
    "    html+='</tr></table>'\n",
    "    display(HTML(html))"
   ]
  },
  {
   "cell_type": "markdown",
   "metadata": {},
   "source": [
    "## Popularity-Based Recommendation System"
   ]
  },
  {
   "cell_type": "markdown",
   "metadata": {},
   "source": [
    "Il più semplice Recommender System che si possa costruire avendo a disposizione le valutazioni degli utenti sui film da loro guardati è quello basato su popolarità. Questo sistema in letteratura rientra negli approcci non-personalizzati, chiamati così in quanto suggeriscono a qualsiasi utente lo stesso identico output. Sistemi di questo genere sono per esempio \"Guida Michelin\", \"Top 10 acquistati del mese\" in Feltrinelli o Mondadori Store, ecc. Sono suggerimenti che possono essere definiti di tipo editoriale.\n",
    "\n",
    "Un Recommender System di tipo non personalizzato basato su popolarità può essere implementato seguendo due approcci:\n",
    "- Top Popular: il concetto di popolarità è legato al numero di ratings espressi, indipendentemente che essi siano positivi o negativi;\n",
    "- Best Rated: in questo caso, invece, per ogni item si calcola la media dei ratings ricevuti e si scelgono quelli con media voti più alta."
   ]
  },
  {
   "cell_type": "markdown",
   "metadata": {},
   "source": [
    "### Top Popular"
   ]
  },
  {
   "cell_type": "code",
   "execution_count": 18,
   "metadata": {},
   "outputs": [],
   "source": [
    "top_popular = ratings.groupBy(\"movieId\").agg(countDistinct(\"userId\"))\\\n",
    "              .withColumnRenamed(\"count(userId)\", \"Count_votes\")\\\n",
    "              .join(movies.select([\"movieId\",\"title\"]),\"movieId\")\\\n",
    "              .join(links.select([\"movieId\",\"tmdbId\",\"imdbId\"]),\"movieId\")\\\n",
    "              .orderBy(col(\"Count_votes\").desc_nulls_last())"
   ]
  },
  {
   "cell_type": "code",
   "execution_count": 19,
   "metadata": {
    "scrolled": true
   },
   "outputs": [
    {
     "name": "stdout",
     "output_type": "stream",
     "text": [
      "+-------+-----------+-----------------------------------------+------+------+\n",
      "|movieId|Count_votes|title                                    |tmdbId|imdbId|\n",
      "+-------+-----------+-----------------------------------------+------+------+\n",
      "|356    |81491      |Forrest Gump (1994)                      |13    |109830|\n",
      "|318    |81482      |Shawshank Redemption, The (1994)         |278   |111161|\n",
      "|296    |79672      |Pulp Fiction (1994)                      |680   |110912|\n",
      "|593    |74127      |Silence of the Lambs, The (1991)         |274   |102926|\n",
      "|2571   |72674      |Matrix, The (1999)                       |603   |133093|\n",
      "|260    |68717      |Star Wars: Episode IV - A New Hope (1977)|11    |76759 |\n",
      "|480    |64144      |Jurassic Park (1993)                     |329   |107290|\n",
      "|527    |60411      |Schindler's List (1993)                  |424   |108052|\n",
      "|110    |59184      |Braveheart (1995)                        |197   |112573|\n",
      "|2959   |58773      |Fight Club (1999)                        |550   |137523|\n",
      "+-------+-----------+-----------------------------------------+------+------+\n",
      "only showing top 10 rows\n",
      "\n"
     ]
    }
   ],
   "source": [
    "top_popular.show(10, truncate=False)"
   ]
  },
  {
   "cell_type": "code",
   "execution_count": 20,
   "metadata": {},
   "outputs": [
    {
     "data": {
      "text/html": [
       "<table><tr><th><a href=\"https://www.themoviedb.org/movie/13\" title=\"Forrest Gump\" target=\"_blank\"><img src=\"https://image.tmdb.org/t/p/w200/pGZqc9jQ6F8klQZKm37NAAMH70o.jpg\"></a></th><th><a href=\"https://www.themoviedb.org/movie/278\" title=\"Le ali della libertà\" target=\"_blank\"><img src=\"https://image.tmdb.org/t/p/w200/9OxcvTJwZDjQTFvY2NxiwnSrQS6.jpg\"></a></th><th><a href=\"https://www.themoviedb.org/movie/680\" title=\"Pulp Fiction\" target=\"_blank\"><img src=\"https://image.tmdb.org/t/p/w200/fUfkejQq0hOmocJnZGQCJO4yQ17.jpg\"></a></th><th><a href=\"https://www.themoviedb.org/movie/274\" title=\"Il silenzio degli innocenti\" target=\"_blank\"><img src=\"https://image.tmdb.org/t/p/w200/ztjr7Oly7wMGWR3AjG2Lugbx246.jpg\"></a></th><th><a href=\"https://www.themoviedb.org/movie/603\" title=\"Matrix\" target=\"_blank\"><img src=\"https://image.tmdb.org/t/p/w200/lB0QmvDN7GDpNzDYDS3hVbuDtSl.jpg\"></a></th></tr><tr><th><a href=\"https://www.themoviedb.org/movie/11\" title=\"Guerre stellari\" target=\"_blank\"><img src=\"https://image.tmdb.org/t/p/w200/fVqKwpvobwWy0P1UImZWIDuw4RI.jpg\"></a></th><th><a href=\"https://www.themoviedb.org/movie/329\" title=\"Jurassic Park\" target=\"_blank\"><img src=\"https://image.tmdb.org/t/p/w200/rgTb50SOeZTGK0eQbAIVTgvYFOI.jpg\"></a></th><th><a href=\"https://www.themoviedb.org/movie/424\" title=\"Schindler's List\" target=\"_blank\"><img src=\"https://image.tmdb.org/t/p/w200/m0pV0fmMERzCvPVQbLLrPPLl5q1.jpg\"></a></th><th><a href=\"https://www.themoviedb.org/movie/197\" title=\"Braveheart - Cuore impavido\" target=\"_blank\"><img src=\"https://image.tmdb.org/t/p/w200/gwIU1r8d9ZVwrPqkEDfrxLTkgWy.jpg\"></a></th><th><a href=\"https://www.themoviedb.org/movie/550\" title=\"Fight Club\" target=\"_blank\"><img src=\"https://image.tmdb.org/t/p/w200/rtNLQ8HbPElzEfrHjrzSr07prKT.jpg\"></a></th></tr><tr></tr></table>"
      ],
      "text/plain": [
       "<IPython.core.display.HTML object>"
      ]
     },
     "metadata": {},
     "output_type": "display_data"
    }
   ],
   "source": [
    "stampaLocandine(top_popular.limit(10).rdd.collect())"
   ]
  },
  {
   "cell_type": "markdown",
   "metadata": {},
   "source": [
    "### Best Rated"
   ]
  },
  {
   "cell_type": "markdown",
   "metadata": {},
   "source": [
    "### Best Rated con semplice media voti"
   ]
  },
  {
   "cell_type": "code",
   "execution_count": 20,
   "metadata": {},
   "outputs": [],
   "source": [
    "best_rated = ratings.groupBy(\"movieId\").agg(countDistinct(\"userId\"), avg(\"rating\"))\\\n",
    "    .withColumnRenamed(\"count(userId)\", \"Count_votes\")\\\n",
    "    .withColumnRenamed(\"avg(rating)\", \"Avg_votes\")\\\n",
    "    .filter(col(\"Count_votes\")>=500)\\\n",
    "    .join(movies.select([\"movieId\",\"title\"]),\"movieId\")\\\n",
    "    .join(links.select([\"movieId\",\"tmdbId\",\"imdbId\"]),\"movieId\")\\\n",
    "    .orderBy(col(\"Avg_votes\").desc_nulls_last())"
   ]
  },
  {
   "cell_type": "code",
   "execution_count": 21,
   "metadata": {},
   "outputs": [],
   "source": [
    "best_rated_collect = best_rated.limit(10).rdd.collect()"
   ]
  },
  {
   "cell_type": "code",
   "execution_count": 22,
   "metadata": {},
   "outputs": [
    {
     "data": {
      "text/html": [
       "<table><tr><th><h3 style=\"text-align: center\">Planet Earth II (2016)</h3><br><div style=\"text-align: center\">(risorsa non trovata)</div></th><th><h3 style=\"text-align: center\">Planet Earth (2006)</h3><br><div style=\"text-align: center\">(risorsa non trovata)</div></th><th><a href=\"https://www.themoviedb.org/movie/278\" title=\"Le ali della libertà\" target=\"_blank\"><img src=\"https://image.tmdb.org/t/p/w200/9OxcvTJwZDjQTFvY2NxiwnSrQS6.jpg\"></a></th><th><h3 style=\"text-align: center\">Band of Brothers (2001)</h3><br><div style=\"text-align: center\">(risorsa non trovata)</div></th><th><a href=\"https://www.themoviedb.org/movie/238\" title=\"Il padrino\" target=\"_blank\"><img src=\"https://image.tmdb.org/t/p/w200/r4gnMXoY1efvaolNDjn3nj4046S.jpg\"></a></th></tr><tr><th><h3 style=\"text-align: center\">Blue Planet II (2017)</h3><br><div style=\"text-align: center\">(risorsa non trovata)</div></th><th><a href=\"https://www.themoviedb.org/movie/629\" title=\"I soliti sospetti\" target=\"_blank\"><img src=\"https://image.tmdb.org/t/p/w200/uiM4U4kuQgjmXSWkYkxHnqTuJgx.jpg\"></a></th><th><a href=\"https://www.themoviedb.org/movie/240\" title=\"Il padrino - Parte II\" target=\"_blank\"><img src=\"https://image.tmdb.org/t/p/w200/x3tDZOQn1jxaoVd3RJLECX6QGvd.jpg\"></a></th><th><h3 style=\"text-align: center\">Over the Garden Wall (2013)</h3><br><div style=\"text-align: center\">(risorsa non trovata)</div></th><th><a href=\"https://www.themoviedb.org/movie/346\" title=\"I sette samurai\" target=\"_blank\"><img src=\"https://image.tmdb.org/t/p/w200/jWuqTMczPlc9VEo6D6hlbLh713z.jpg\"></a></th></tr><tr></tr></table>"
      ],
      "text/plain": [
       "<IPython.core.display.HTML object>"
      ]
     },
     "metadata": {},
     "output_type": "display_data"
    }
   ],
   "source": [
    "stampaLocandine(best_rated_collect)"
   ]
  },
  {
   "cell_type": "markdown",
   "metadata": {},
   "source": [
    "### Best Rated con penalità sul numero di ratings"
   ]
  },
  {
   "cell_type": "markdown",
   "metadata": {},
   "source": [
    "Si è prima effettuato un suggerimento dei film basandosi sulla semplice media aritmetica dei ratings. Si è però osservata la presenza di titoli che si è ritenuti effettivamente non rilevanti nonostante l'alta media dei ratings. Questo è dovuto al fatto che la media aritmetica non tiene conto del supporto su cui essa è calcolata.\n",
    "\n",
    "Per ovviare a questo problema si è deciso di applicare un fattore di penalizzazzione logaritmico della frequenza sulla media dei ratings."
   ]
  },
  {
   "cell_type": "code",
   "execution_count": 23,
   "metadata": {},
   "outputs": [],
   "source": [
    "best_rated_logpenalty = ratings.groupBy(\"movieId\").agg(countDistinct(\"userId\"), avg(\"rating\"), log(countDistinct(\"userId\"))*avg(\"rating\"))\\\n",
    "    .withColumnRenamed(\"count(userId)\", \"Count_votes\")\\\n",
    "    .withColumnRenamed(\"avg(rating)\", \"Avg_votes\")\\\n",
    "    .withColumnRenamed(\"(ln(count(userId)) * avg(rating))\", \"Inverse_freq_rating\")\\\n",
    "    .join(links.select([\"movieId\",\"tmdbId\",\"imdbId\"]),\"movieId\")\\\n",
    "    .orderBy(col(\"Inverse_freq_rating\").desc_nulls_last())"
   ]
  },
  {
   "cell_type": "code",
   "execution_count": 24,
   "metadata": {},
   "outputs": [],
   "source": [
    "best_rated_logpenalty_collect = best_rated_logpenalty.limit(10).rdd.collect()"
   ]
  },
  {
   "cell_type": "code",
   "execution_count": 25,
   "metadata": {
    "scrolled": false
   },
   "outputs": [
    {
     "data": {
      "text/html": [
       "<table><tr><th><a href=\"https://www.themoviedb.org/movie/278\" title=\"Le ali della libertà\" target=\"_blank\"><img src=\"https://image.tmdb.org/t/p/w200/9OxcvTJwZDjQTFvY2NxiwnSrQS6.jpg\"></a></th><th><a href=\"https://www.themoviedb.org/movie/680\" title=\"Pulp Fiction\" target=\"_blank\"><img src=\"https://image.tmdb.org/t/p/w200/fUfkejQq0hOmocJnZGQCJO4yQ17.jpg\"></a></th><th><a href=\"https://www.themoviedb.org/movie/238\" title=\"Il padrino\" target=\"_blank\"><img src=\"https://image.tmdb.org/t/p/w200/r4gnMXoY1efvaolNDjn3nj4046S.jpg\"></a></th><th><a href=\"https://www.themoviedb.org/movie/629\" title=\"I soliti sospetti\" target=\"_blank\"><img src=\"https://image.tmdb.org/t/p/w200/uiM4U4kuQgjmXSWkYkxHnqTuJgx.jpg\"></a></th><th><a href=\"https://www.themoviedb.org/movie/424\" title=\"Schindler's List\" target=\"_blank\"><img src=\"https://image.tmdb.org/t/p/w200/m0pV0fmMERzCvPVQbLLrPPLl5q1.jpg\"></a></th></tr><tr><th><a href=\"https://www.themoviedb.org/movie/274\" title=\"Il silenzio degli innocenti\" target=\"_blank\"><img src=\"https://image.tmdb.org/t/p/w200/ztjr7Oly7wMGWR3AjG2Lugbx246.jpg\"></a></th><th><a href=\"https://www.themoviedb.org/movie/603\" title=\"Matrix\" target=\"_blank\"><img src=\"https://image.tmdb.org/t/p/w200/lB0QmvDN7GDpNzDYDS3hVbuDtSl.jpg\"></a></th><th><a href=\"https://www.themoviedb.org/movie/550\" title=\"Fight Club\" target=\"_blank\"><img src=\"https://image.tmdb.org/t/p/w200/rtNLQ8HbPElzEfrHjrzSr07prKT.jpg\"></a></th><th><a href=\"https://www.themoviedb.org/movie/11\" title=\"Guerre stellari\" target=\"_blank\"><img src=\"https://image.tmdb.org/t/p/w200/fVqKwpvobwWy0P1UImZWIDuw4RI.jpg\"></a></th><th><a href=\"https://www.themoviedb.org/movie/13\" title=\"Forrest Gump\" target=\"_blank\"><img src=\"https://image.tmdb.org/t/p/w200/pGZqc9jQ6F8klQZKm37NAAMH70o.jpg\"></a></th></tr><tr></tr></table>"
      ],
      "text/plain": [
       "<IPython.core.display.HTML object>"
      ]
     },
     "metadata": {},
     "output_type": "display_data"
    }
   ],
   "source": [
    "stampaLocandine(best_rated_logpenalty_collect)"
   ]
  },
  {
   "cell_type": "markdown",
   "metadata": {},
   "source": [
    "Come si può osservare l'ultima lista di suggerimento fornita rispecchia molto meglio il concetto di popolarità."
   ]
  },
  {
   "cell_type": "markdown",
   "metadata": {},
   "source": [
    "### Popularity Based basato su categoria"
   ]
  },
  {
   "cell_type": "markdown",
   "metadata": {},
   "source": [
    "Si è voluto sfruttare l'attributo \"genres\" presente nel dataset dei film per effettuare una ricerca degli item più popolari data in input una categoria tra tutte quelle presenti nel dataset."
   ]
  },
  {
   "cell_type": "code",
   "execution_count": 26,
   "metadata": {
    "scrolled": true
   },
   "outputs": [
    {
     "name": "stdout",
     "output_type": "stream",
     "text": [
      "['Crime', 'Romance', 'Thriller', 'Adventure', 'Drama', 'War', 'Documentary', 'Fantasy', 'Mystery', 'Musical', 'Animation', 'Film-Noir', '(no genres listed)', 'IMAX', 'Horror', 'Western', 'Comedy', 'Children', 'Action', 'Sci-Fi']\n"
     ]
    }
   ],
   "source": [
    "movies_new = movies.select(col(\"movieId\"), col(\"title\"), explode(split(col(\"genres\"),\"\\|\")).alias(\"genres\"))\n",
    "test = movies_new.select('genres').distinct().collect()\n",
    "genre_list = list()\n",
    "for row in test:\n",
    "    genre_list.append(row[0])\n",
    "print(genre_list)"
   ]
  },
  {
   "cell_type": "code",
   "execution_count": 27,
   "metadata": {},
   "outputs": [],
   "source": [
    "def pop_rec_by_genere(genere):\n",
    "    popular_inverse_genre = ratings.groupBy(\"movieId\").agg(countDistinct(\"userId\"), avg(\"rating\"), log(countDistinct(\"userId\"))*avg(\"rating\"))\\\n",
    "        .withColumnRenamed(\"count(userId)\", \"Count_votes\")\\\n",
    "        .withColumnRenamed(\"avg(rating)\", \"Avg_votes\")\\\n",
    "        .withColumnRenamed(\"(ln(count(userId)) * avg(rating))\", \"Inverse_freq_rating\")\\\n",
    "        .join(links.select([\"movieId\",\"tmdbId\",\"imdbId\"]), \"movieId\")\\\n",
    "        .join(movies.select([\"movieId\",\"genres\",\"title\"]), \"movieId\")\\\n",
    "        .filter(col(\"genres\").like(genere))\\\n",
    "        .orderBy(col(\"Inverse_freq_rating\").desc_nulls_last())\n",
    "    popular_inverse_genre_collect = popular_inverse_genre.limit(10).rdd.collect();\n",
    "    stampaLocandine(popular_inverse_genre_collect)"
   ]
  },
  {
   "cell_type": "markdown",
   "metadata": {},
   "source": [
    "Nell'esempio seguente si è ottenuta una lista di film più famosi dato il genere **Horror**:"
   ]
  },
  {
   "cell_type": "code",
   "execution_count": 28,
   "metadata": {
    "scrolled": false
   },
   "outputs": [
    {
     "data": {
      "text/html": [
       "<table><tr><th><a href=\"https://www.themoviedb.org/movie/694\" title=\"Shining\" target=\"_blank\"><img src=\"https://image.tmdb.org/t/p/w200/6RRAmYLQ9kvhLVHKy5D1SATPuyi.jpg\"></a></th><th><a href=\"https://www.themoviedb.org/movie/419430\" title=\"Scappa - Get Out\" target=\"_blank\"><img src=\"https://image.tmdb.org/t/p/w200/w2jxCYzXj15wxbGJOT6emg6gLOn.jpg\"></a></th><th><a href=\"https://www.themoviedb.org/movie/653\" title=\"Nosferatu il vampiro\" target=\"_blank\"><img src=\"https://image.tmdb.org/t/p/w200/8iaCVx9YYfOpwnMKxcA05dkXKmH.jpg\"></a></th><th><a href=\"https://www.themoviedb.org/movie/948\" title=\"Halloween - La notte delle streghe\" target=\"_blank\"><img src=\"https://image.tmdb.org/t/p/w200/ocfJdsngDEM8k9Z1hkchh5HLxCU.jpg\"></a></th><th><a href=\"https://www.themoviedb.org/movie/138\" title=\"Dracula\" target=\"_blank\"><img src=\"https://image.tmdb.org/t/p/w200/sqC71v6rK3r5gSJGS9eqdvUXS3f.jpg\"></a></th></tr><tr><th><a href=\"https://www.themoviedb.org/movie/270303\" title=\"It Follows\" target=\"_blank\"><img src=\"https://image.tmdb.org/t/p/w200/opEVqziXDuxuaFqrWdijJN9oniD.jpg\"></a></th><th><a href=\"https://www.themoviedb.org/movie/346364\" title=\"It\" target=\"_blank\"><img src=\"https://image.tmdb.org/t/p/w200/u7z3JkXf3UAmi9npT6O6yhbnoz5.jpg\"></a></th><th><a href=\"https://www.themoviedb.org/movie/310131\" title=\"The Witch\" target=\"_blank\"><img src=\"https://image.tmdb.org/t/p/w200/987zL64S0d77kQOuX7Xf9RMPxlp.jpg\"></a></th><th><a href=\"https://www.themoviedb.org/movie/30497\" title=\"Non aprite quella porta\" target=\"_blank\"><img src=\"https://image.tmdb.org/t/p/w200/boCctb1SLoMd3HLHgJ0VbVGBPIQ.jpg\"></a></th><th><a href=\"https://www.themoviedb.org/movie/9003\" title=\"Hellraiser\" target=\"_blank\"><img src=\"https://image.tmdb.org/t/p/w200/nydvRyuHu6KNMcCIoYgB8VPVL2z.jpg\"></a></th></tr><tr></tr></table>"
      ],
      "text/plain": [
       "<IPython.core.display.HTML object>"
      ]
     },
     "metadata": {},
     "output_type": "display_data"
    }
   ],
   "source": [
    "pop_rec_by_genere(genre_list[14]) #14 = Horror"
   ]
  },
  {
   "cell_type": "markdown",
   "metadata": {},
   "source": [
    "## Collaborative Filtering Recommender System\n",
    "Per collaborative filtering si intende una classe di strumenti e meccanismi di tipo personalizzato che consentono il recupero di informazioni predittive relativamente agli interessi di un insieme dato di utenti a partire da una massa ampia di conoscenza.\n",
    "\n",
    "L'assunzione fondamentale dietro il concetto di collaborative filtering è che ogni singolo utente che ha mostrato un certo insieme di preferenze continuerà a mostrarle in futuro. Da notare che, sebbene tali informazioni siano referenti a un singolo utente, esse derivano dalla conoscenza elaborata su tutto l'arco dell'insieme degli utenti del sistema.\n",
    "\n",
    "Una categoria molto nota di algoritmi di tipo collaborativo è la matrix factorization."
   ]
  },
  {
   "cell_type": "markdown",
   "metadata": {},
   "source": [
    "### ALS (Alternating Least Squares)\n",
    "L'algoritmo implementato nella libreria MLlib di Apache Spark per fornire raccomandazioni di tipo collaborativo è l'Alternating Least Squares, un algoritmo di fattorizzazione di matrice (Matrix Factorization algorithm) per il calcolo distribuito e parallelo.\n",
    "\n",
    "Questo algoritmo risolve i problemi che emergono dalla gestione di matrici sparse, molto comuni nel campo dei sistemi di raccomandazione in cui i dataset hanno spesso parecchi valori mancanti.\n",
    "\n",
    "Inoltre, ALS minimizza poi due loss function alternativamente:\n",
    "\n",
    "- Prima, blocca la matrice user e usa la Discesa del Gradiente sulla quella item\n",
    "- Poi, blocca la matrice item e calcola la Discesa del Gradiente sulla matrice user\n",
    "\n",
    "Quindi, l'ALS esegue l’algoritmo di Gradient Descent in parallelo su partizioni multiple del training set da un cluster di macchine connesse, risolvendo così anche i problemi di scalabilità.\n"
   ]
  },
  {
   "cell_type": "code",
   "execution_count": 6,
   "metadata": {},
   "outputs": [],
   "source": [
    "(train, test) = ratings.randomSplit([0.8, 0.2], seed=8)\n",
    "\n",
    "# Per ottimizzare la gestione della memoria si è adottato un approccio a checkpoint\n",
    "# che ha risolto il problema di StackOverflowError durante i primi fitting del modello\n",
    "train_ckpt = train.checkpoint(eager=True) \n",
    "test_ckpt = test.checkpoint(eager=True)"
   ]
  },
  {
   "cell_type": "code",
   "execution_count": 30,
   "metadata": {},
   "outputs": [
    {
     "name": "stdout",
     "output_type": "stream",
     "text": [
      "Rows in Training set:  19996875\n",
      "Rows in Test set:  5003220\n"
     ]
    }
   ],
   "source": [
    "dim_train = train_ckpt.count()\n",
    "dim_test = test_ckpt.count()\n",
    "print(\"Rows in Training set: \", dim_train)\n",
    "print(\"Rows in Test set: \", dim_test)"
   ]
  },
  {
   "cell_type": "markdown",
   "metadata": {},
   "source": [
    "Così come ogni altro algoritmo di machine learning, anche l’ALS ha il suo set d’iperparametri da ottimizzare. Nel nostro caso, trattandosi di feedback espliciti (ratings), gli iperparametri di interesse sono:\n",
    "- maxIter: il numero massimo d’iterazioni da eseguire (default a 10)\n",
    "- rank: il numero di fattori latenti del modello (default a 10)\n",
    "- regParam: il parametro di regolarizzazione per ALS (default a 1.0)\n",
    "\n",
    "Per fare ciò si è usata una 5-fold Cross Validation avente come metrica di valutazione l'RMSE (Root Mean Square Error)."
   ]
  },
  {
   "cell_type": "code",
   "execution_count": 31,
   "metadata": {},
   "outputs": [],
   "source": [
    "from pyspark.ml.evaluation import RegressionEvaluator\n",
    "from pyspark.ml.recommendation import ALS\n",
    "\n",
    "from pyspark.ml.tuning import CrossValidator, ParamGridBuilder\n",
    "\n",
    "evaluator = RegressionEvaluator(metricName = \"rmse\", labelCol = \"rating\", predictionCol = \"prediction\")\n",
    "\n",
    "als = ALS(userCol = \"userId\", itemCol = \"movieId\", ratingCol = \"rating\", coldStartStrategy = \"drop\")\n",
    "\n",
    "# Abbiamo usato ParamGridBuilder per costruire una griglia di parametri.\n",
    "# Con 2 valori per maxIter, 5 per regParam e 3 per rank,\n",
    "# questa griglia avrà 2 x 5 x 3 = 30 possibili combinazioni tra cui scegliere il miglior modello.\n",
    "paramGrid = ParamGridBuilder() \\\n",
    "            .addGrid(als.maxIter, [15, 20]) \\\n",
    "            .addGrid(als.regParam, [0.05, 0.1, 0.2, 0.4, 0.8]) \\\n",
    "            .addGrid(als.rank, [10, 11, 12]) \\\n",
    "            .build()\n",
    "\n",
    "crossvalidation = CrossValidator(estimator = als,\n",
    "                                 estimatorParamMaps = paramGrid,\n",
    "                                 evaluator = evaluator,\n",
    "                                 numFolds = 5)"
   ]
  },
  {
   "cell_type": "code",
   "execution_count": 32,
   "metadata": {},
   "outputs": [],
   "source": [
    "cv_model = crossvalidation.fit(train_ckpt)"
   ]
  },
  {
   "cell_type": "code",
   "execution_count": 33,
   "metadata": {},
   "outputs": [],
   "source": [
    "best_model = cv_model.bestModel"
   ]
  },
  {
   "cell_type": "code",
   "execution_count": 34,
   "metadata": {},
   "outputs": [],
   "source": [
    "predictions = best_model.transform(test_ckpt)"
   ]
  },
  {
   "cell_type": "code",
   "execution_count": 35,
   "metadata": {},
   "outputs": [
    {
     "name": "stdout",
     "output_type": "stream",
     "text": [
      "+------+-------+------+---------+----------+\n",
      "|userId|movieId|rating|timestamp|prediction|\n",
      "+------+-------+------+---------+----------+\n",
      "| 26480|    148|   2.0|915406133| 1.8977656|\n",
      "| 21531|    148|   3.0|834035555| 3.0807085|\n",
      "| 77130|    148|   1.0|831284829| 0.6668097|\n",
      "| 28229|    148|   1.0|833850593| 3.1786423|\n",
      "| 64112|    148|   3.0|940520793| 3.1744792|\n",
      "+------+-------+------+---------+----------+\n",
      "only showing top 5 rows\n",
      "\n",
      "RMSE (Test Set):  0.782146149464916\n"
     ]
    }
   ],
   "source": [
    "predictions.show(5)\n",
    "rmse_test = evaluator.evaluate(predictions)\n",
    "print(\"RMSE (Test Set): \",rmse_test)"
   ]
  },
  {
   "cell_type": "markdown",
   "metadata": {},
   "source": [
    "### ALS con parametri di default\n",
    "Nella seguente sezione si è voluto eseguire l'algoritmo ALS (con i valori di default degli iperparametri), naturalmente utilizzando lo stesso insieme di training su cui è stato eseguito utilizzando la Cross Validation."
   ]
  },
  {
   "cell_type": "code",
   "execution_count": 81,
   "metadata": {},
   "outputs": [
    {
     "name": "stdout",
     "output_type": "stream",
     "text": [
      "RMSE (Test Set) con ALS_default:  1.3219202581351595\n"
     ]
    }
   ],
   "source": [
    "from pyspark.ml.evaluation import RegressionEvaluator\n",
    "from pyspark.ml.recommendation import ALS\n",
    "evaluator = RegressionEvaluator(metricName = \"rmse\", labelCol = \"rating\", predictionCol = \"prediction\")\n",
    "\n",
    "als_default = ALS(maxIter=10, regParam=1, rank=10, userCol=\"userId\", itemCol=\"movieId\", ratingCol=\"rating\",coldStartStrategy=\"drop\")\n",
    "model_default = als_default.fit(train_ckpt)\n",
    "\n",
    "predictions_default = model_default.transform(test_ckpt)\n",
    "rmse_test_als_default = evaluator.evaluate(predictions_default)\n",
    "print(\"RMSE (Test Set) con ALS_default: \", rmse_test_als_default)"
   ]
  },
  {
   "cell_type": "markdown",
   "metadata": {},
   "source": [
    "Come possiamo osservare, il valore dell'RMSE valutato sullo stesso test set è maggiore quando si utilizza l'algoritmo ALS con i valori di default (1,3219) rispetto all'utilizzo del best model ricavato dalla Cross Validation (0.7821). Come possiamo notare dallo snippet successivo, i valori degli iperparametri del miglior modello sono molto lontati da quelli di dafault...le 4 ore e mezza rihiesta dall'operazione fit hanno portato alla costruzione di un miglior modello."
   ]
  },
  {
   "cell_type": "markdown",
   "metadata": {},
   "source": [
    "#### Info Best Model"
   ]
  },
  {
   "cell_type": "code",
   "execution_count": 37,
   "metadata": {},
   "outputs": [
    {
     "name": "stdout",
     "output_type": "stream",
     "text": [
      "Parametri Best Model:\n",
      "Rank: 12\n",
      "Max Iter: 20\n",
      "Reg Param: 0.05\n"
     ]
    }
   ],
   "source": [
    "print('Parametri Best Model:')\n",
    "print(\"Rank:\", best_model.rank)\n",
    "print(\"Max Iter:\", best_model._java_obj.parent().getMaxIter())\n",
    "print(\"Reg Param:\", best_model._java_obj.parent().getRegParam())"
   ]
  },
  {
   "cell_type": "markdown",
   "metadata": {},
   "source": [
    "#### Training e Test RMSE su CV-Model e Baseline-Model"
   ]
  },
  {
   "cell_type": "code",
   "execution_count": 83,
   "metadata": {},
   "outputs": [
    {
     "name": "stdout",
     "output_type": "stream",
     "text": [
      "Training RMSE best model:  0.7193885708677163\n",
      "Training RMSE default model:  1.316682799330212\n"
     ]
    }
   ],
   "source": [
    "predictions_train_als_cv = best_model.transform(train_ckpt)\n",
    "rmse_train_als_cv = evaluator.evaluate(predictions_train_als_cv)\n",
    "print(\"Training RMSE best model: \", rmse_train_als_cv)\n",
    "\n",
    "predictions_train_als_default = model_default.transform(train_ckpt)\n",
    "rmse_train_als_default = evaluator.evaluate(predictions_train_als_default)\n",
    "print(\"Training RMSE default model: \", rmse_train_als_default)"
   ]
  },
  {
   "cell_type": "code",
   "execution_count": 84,
   "metadata": {},
   "outputs": [
    {
     "name": "stdout",
     "output_type": "stream",
     "text": [
      "                                  Training RMSE  Test RMSE\n",
      "model                                                     \n",
      "5-Fold Cross Validated ALS model       0.719389   0.782146\n",
      "Baseline ALS Model                     1.316683   1.321919\n"
     ]
    }
   ],
   "source": [
    "# Dataframe con RMSE modelli\n",
    "df_rmse = pd.DataFrame({ \"model\" : [\"5-Fold Cross Validated ALS model\", \"Baseline ALS Model\"],\n",
    "                    \"Training RMSE\" : [rmse_train_als_cv, rmse_train_als_default],\n",
    "                    \"Test RMSE\" : [rmse_test, rmse_test_als_default]}).set_index(\"model\")\n",
    "print(df_rmse)"
   ]
  },
  {
   "cell_type": "markdown",
   "metadata": {},
   "source": [
    "#### Salvataggio e caricamento del modello addestrato"
   ]
  },
  {
   "cell_type": "code",
   "execution_count": 38,
   "metadata": {},
   "outputs": [],
   "source": [
    "# Per evitare di rieseguire il fitting del modello, si è deciso di salvarlo per poi ricaricarlo quando necessario.\n",
    "# Il tempo di elaborazione è stato di circa 4h 30m.\n",
    "cv_model.write().overwrite().save(r'.\\model')"
   ]
  },
  {
   "cell_type": "code",
   "execution_count": 8,
   "metadata": {},
   "outputs": [],
   "source": [
    "# Istruzione per il caricamento del modello già fittato.\n",
    "from pyspark.ml.tuning import CrossValidatorModel\n",
    "model_imp = CrossValidatorModel.load(r'.\\model')\n",
    "best_model = model_imp.bestModel"
   ]
  },
  {
   "cell_type": "markdown",
   "metadata": {},
   "source": [
    "### Generazione liste suggerimenti"
   ]
  },
  {
   "cell_type": "code",
   "execution_count": 40,
   "metadata": {},
   "outputs": [
    {
     "name": "stdout",
     "output_type": "stream",
     "text": [
      "+------+--------------------+\n",
      "|userId|     recommendations|\n",
      "+------+--------------------+\n",
      "|   148|[{200930, 5.58232...|\n",
      "|   463|[{163921, 7.83578...|\n",
      "|   471|[{200930, 5.61941...|\n",
      "|   496|[{171429, 6.74089...|\n",
      "|   833|[{192089, 4.95588...|\n",
      "+------+--------------------+\n",
      "only showing top 5 rows\n",
      "\n",
      "+-------+--------------------+\n",
      "|movieId|     recommendations|\n",
      "+-------+--------------------+\n",
      "|    148|[{18507, 5.387201...|\n",
      "|    463|[{18885, 5.976638...|\n",
      "|    471|[{86599, 5.551526...|\n",
      "|    496|[{18885, 5.967755...|\n",
      "|    833|[{127483, 6.08745...|\n",
      "+-------+--------------------+\n",
      "only showing top 5 rows\n",
      "\n"
     ]
    }
   ],
   "source": [
    "# Generazione lista top 10 per ogni utente\n",
    "userRecs = best_model.recommendForAllUsers(10)\n",
    "\n",
    "# Generazione lista utenti per ogni film\n",
    "movieRecs = best_model.recommendForAllItems(10)\n",
    "\n",
    "userRecs.show(5)\n",
    "movieRecs.show(5)"
   ]
  },
  {
   "cell_type": "markdown",
   "metadata": {},
   "source": [
    "Come abbiamo potuto osservare, molto spesso non è necessario calcolare le predizioni dei ratings per tutti gli utenti in merito a tutti gli item. Per questo si è effettuato la raccomandazione prima per un dato utente (dato l'userID) e successivamente indicato un film (movieId) si è ricavata la lista degli utenti più indicati a cui effettuare la raccomandazione del film selezionato."
   ]
  },
  {
   "cell_type": "markdown",
   "metadata": {},
   "source": [
    "### Suggerimenti film dato un userID in input"
   ]
  },
  {
   "cell_type": "code",
   "execution_count": 41,
   "metadata": {},
   "outputs": [],
   "source": [
    "user_id = 444\n",
    "user = ratings.select(als.getUserCol()).distinct().filter(col(\"userId\")==user_id)"
   ]
  },
  {
   "cell_type": "code",
   "execution_count": 42,
   "metadata": {},
   "outputs": [
    {
     "name": "stdout",
     "output_type": "stream",
     "text": [
      "+------+--------------------+\n",
      "|userId|     recommendations|\n",
      "+------+--------------------+\n",
      "|   444|[{157997, 5.74504...|\n",
      "+------+--------------------+\n",
      "\n"
     ]
    }
   ],
   "source": [
    "userSubsetRecs = best_model.recommendForUserSubset(user, 10)\n",
    "userSubsetRecs.show()"
   ]
  },
  {
   "cell_type": "code",
   "execution_count": 43,
   "metadata": {},
   "outputs": [],
   "source": [
    "recdf = userSubsetRecs.select(\"userId\",explode(\"recommendations\"))"
   ]
  },
  {
   "cell_type": "code",
   "execution_count": 44,
   "metadata": {},
   "outputs": [],
   "source": [
    "result_movie = recdf.withColumn('movieId', recdf.col.movieId)\\\n",
    "    .withColumn('rating', recdf.col.rating)\\\n",
    "    .drop(\"col\")"
   ]
  },
  {
   "cell_type": "code",
   "execution_count": 45,
   "metadata": {},
   "outputs": [],
   "source": [
    "result_movie = result_movie.join(movies.select([\"movieId\", \"title\"]), \"movieId\").join(links.select([\"tmdbId\", \"movieId\"]), \"movieId\")"
   ]
  },
  {
   "cell_type": "code",
   "execution_count": 46,
   "metadata": {},
   "outputs": [
    {
     "name": "stdout",
     "output_type": "stream",
     "text": [
      "+-------+------+---------+---------------------------------------------------------------------------+------+\n",
      "|movieId|userId|rating   |title                                                                      |tmdbId|\n",
      "+-------+------+---------+---------------------------------------------------------------------------+------+\n",
      "|157997 |444   |5.7450433|Tintin and the Lake of Sharks (1972)                                       |241004|\n",
      "|203086 |444   |5.660636 |Truth and Justice (2019)                                                   |583841|\n",
      "|155113 |444   |5.5587997|Motherland (2015)                                                          |363846|\n",
      "|116847 |444   |5.459465 |United States of Secrets (Part One): The Program (2014)                    |273334|\n",
      "|189157 |444   |5.440115 |Born in the USSR: 7 Up (1991)                                              |182660|\n",
      "|159107 |444   |5.4312534|Bill Hicks: Totally Bill Hicks (1994)                                      |23802 |\n",
      "|141880 |444   |5.4183006|Freeway: Crack in the System (2014)                                        |298432|\n",
      "|175635 |444   |5.4076757|American Teacher (2011)                                                    |75760 |\n",
      "|205453 |444   |5.3638725|The Good Fight: The Abraham Lincoln Brigade in the Spanish Civil War (1984)|169714|\n",
      "|183947 |444   |5.3258777|NOFX Backstage Passport 2                                                  |378790|\n",
      "+-------+------+---------+---------------------------------------------------------------------------+------+\n",
      "\n"
     ]
    }
   ],
   "source": [
    "result_movie.show(truncate = False)"
   ]
  },
  {
   "cell_type": "code",
   "execution_count": 47,
   "metadata": {
    "scrolled": false
   },
   "outputs": [
    {
     "data": {
      "text/html": [
       "<table><tr><th><a href=\"https://www.themoviedb.org/movie/241004\" title=\"Tintin et le lac aux requins\" target=\"_blank\"><img src=\"https://image.tmdb.org/t/p/w200/jAGiGqoKgCKzMNuLGX5utQ4YbgV.jpg\"></a></th><th><a href=\"https://www.themoviedb.org/movie/583841\" title=\"Truth and Justice\" target=\"_blank\"><img src=\"https://image.tmdb.org/t/p/w200/ghtt7AjNRY9QqC3usz6xEmsyXll.jpg\"></a></th><th><a href=\"https://www.themoviedb.org/movie/363846\" title=\"Родина\" target=\"_blank\"><img src=\"https://image.tmdb.org/t/p/w200/xUyWDLrPURxhpq9JIIZ0z4tY8bu.jpg\"></a></th><th><a href=\"https://www.themoviedb.org/movie/273334\" title=\"United States of Secrets (Part One): The Program\" target=\"_blank\"><img src=\"https://image.tmdb.org/t/p/w200None\"></a></th><th><a href=\"https://www.themoviedb.org/movie/182660\" title=\"Age 7 in the USSR\" target=\"_blank\"><img src=\"https://image.tmdb.org/t/p/w200/2P9LJX8udItDDH2iDnHwEHPXfqi.jpg\"></a></th></tr><tr><th><a href=\"https://www.themoviedb.org/movie/23802\" title=\"Totally Bill Hicks\" target=\"_blank\"><img src=\"https://image.tmdb.org/t/p/w200/AuXb2BlrHaT8wyJAME75CSdriP6.jpg\"></a></th><th><a href=\"https://www.themoviedb.org/movie/298432\" title=\"Freeway: Crack in the System\" target=\"_blank\"><img src=\"https://image.tmdb.org/t/p/w200/xJq3qsEOMpekvhyTwiljh2pKS5e.jpg\"></a></th><th><a href=\"https://www.themoviedb.org/movie/75760\" title=\"American Teacher\" target=\"_blank\"><img src=\"https://image.tmdb.org/t/p/w200/AapxrTEfa8zMAwQWzDx2RpTJpus.jpg\"></a></th><th><a href=\"https://www.themoviedb.org/movie/169714\" title=\"The Good Fight: The Abraham Lincoln Brigade in the Spanish Civil War\" target=\"_blank\"><img src=\"https://image.tmdb.org/t/p/w200/aHArsm3EHBgnqFbHsZL2ii2jOrV.jpg\"></a></th><th><a href=\"https://www.themoviedb.org/movie/378790\" title=\"NOFX Backstage Passport 2\" target=\"_blank\"><img src=\"https://image.tmdb.org/t/p/w200/znvTqltb1hYR9aqtogbS8Ox4pb0.jpg\"></a></th></tr><tr></tr></table>"
      ],
      "text/plain": [
       "<IPython.core.display.HTML object>"
      ]
     },
     "metadata": {},
     "output_type": "display_data"
    }
   ],
   "source": [
    "stampaLocandine(result_movie.rdd.collect())"
   ]
  },
  {
   "cell_type": "markdown",
   "metadata": {},
   "source": [
    "### Lista utenti potenzialmente interessati dato un film in input"
   ]
  },
  {
   "cell_type": "code",
   "execution_count": 48,
   "metadata": {},
   "outputs": [],
   "source": [
    "item_id = 260 #Guerre stellari\n",
    "item = ratings.select(als.getItemCol()).distinct().filter(col(\"movieId\")==item_id)"
   ]
  },
  {
   "cell_type": "code",
   "execution_count": 49,
   "metadata": {},
   "outputs": [
    {
     "name": "stdout",
     "output_type": "stream",
     "text": [
      "+-------+--------------------+\n",
      "|movieId|     recommendations|\n",
      "+-------+--------------------+\n",
      "|    260|[{75922, 6.563246...|\n",
      "+-------+--------------------+\n",
      "\n"
     ]
    }
   ],
   "source": [
    "movieSubsetRecs = best_model.recommendForItemSubset(item, 10) #per brevità solo i top-10 utenti a cui consigliare il film\n",
    "movieSubsetRecs.show()"
   ]
  },
  {
   "cell_type": "code",
   "execution_count": 50,
   "metadata": {},
   "outputs": [],
   "source": [
    "recdf_users = movieSubsetRecs.select(\"movieId\",explode(\"recommendations\"))"
   ]
  },
  {
   "cell_type": "code",
   "execution_count": 51,
   "metadata": {},
   "outputs": [],
   "source": [
    "result_users = recdf_users.withColumn('userId', recdf_users.col.userId)\\\n",
    "    .withColumn('rating', recdf_users.col.rating)\\\n",
    "    .drop(\"col\")"
   ]
  },
  {
   "cell_type": "code",
   "execution_count": 52,
   "metadata": {
    "scrolled": true
   },
   "outputs": [
    {
     "name": "stdout",
     "output_type": "stream",
     "text": [
      "Il film Star Wars: Episode IV - A New Hope (1977) è consigliabile agli utenti: \n",
      "+-------+------+---------+\n",
      "|movieId|userId|rating   |\n",
      "+-------+------+---------+\n",
      "|260    |75922 |6.5632463|\n",
      "|260    |136879|6.4799743|\n",
      "|260    |145072|6.4615164|\n",
      "|260    |155761|6.4225745|\n",
      "|260    |36882 |6.316824 |\n",
      "|260    |71902 |6.306372 |\n",
      "|260    |75420 |6.269747 |\n",
      "|260    |146993|6.16797  |\n",
      "|260    |86713 |6.1625905|\n",
      "|260    |59452 |6.1211576|\n",
      "+-------+------+---------+\n",
      "\n"
     ]
    }
   ],
   "source": [
    "print(\"Il film {} è consigliabile agli utenti: \".format(movies.filter(col(\"movieId\")==item_id).collect()[0][\"title\"]))\n",
    "result_users.show(truncate=False)"
   ]
  },
  {
   "cell_type": "markdown",
   "metadata": {},
   "source": [
    "## Ulteriore valutazione modelli"
   ]
  },
  {
   "attachments": {},
   "cell_type": "markdown",
   "metadata": {},
   "source": [
    "Considerando una votazione maggiore di 3 come rilevante ed una minore come non rilevante sono stati prodotti i seguenti report in merito alla classificazione:"
   ]
  },
  {
   "cell_type": "markdown",
   "metadata": {},
   "source": [
    "### Classification Report Best Model"
   ]
  },
  {
   "cell_type": "code",
   "execution_count": 10,
   "metadata": {},
   "outputs": [
    {
     "name": "stdout",
     "output_type": "stream",
     "text": [
      "+------+-------+------+----------+----------+\n",
      "|userId|movieId|rating| timestamp|prediction|\n",
      "+------+-------+------+----------+----------+\n",
      "|     1|   1653|   4.0|1147868097|   3.44753|\n",
      "|     1|   3569|   5.0|1147879603| 3.9360368|\n",
      "|     1|   4308|   3.0|1147868534| 3.8243463|\n",
      "|     1|   5269|   0.5|1147879571|   3.61861|\n",
      "|     1|   5684|   2.0|1147879797|  3.669652|\n",
      "+------+-------+------+----------+----------+\n",
      "only showing top 5 rows\n",
      "\n"
     ]
    }
   ],
   "source": [
    "pdrs = best_model.transform(test_ckpt)"
   ]
  },
  {
   "cell_type": "code",
   "execution_count": 43,
   "metadata": {},
   "outputs": [],
   "source": [
    "pdrs_mod = pdrs.withColumn(\"rating_class\",when(col(\"rating\") >= 3, \"relevant\").otherwise(\"non_relevant\"))\\\n",
    "               .withColumn(\"pred_class\",when(col(\"prediction\") >= 3, \"relevant\").otherwise(\"non_relevant\"))"
   ]
  },
  {
   "cell_type": "code",
   "execution_count": 45,
   "metadata": {},
   "outputs": [],
   "source": [
    "pdrs_mod_pd = pdrs_mod.toPandas()"
   ]
  },
  {
   "cell_type": "code",
   "execution_count": 75,
   "metadata": {},
   "outputs": [],
   "source": [
    "y_true = pdrs_mod_pd.rating_class\n",
    "y_pred = pdrs_mod_pd.pred_class"
   ]
  },
  {
   "cell_type": "code",
   "execution_count": 74,
   "metadata": {
    "scrolled": true
   },
   "outputs": [
    {
     "name": "stdout",
     "output_type": "stream",
     "text": [
      "              precision    recall  f1-score   support\n",
      "\n",
      "non_relevant     0.5178    0.6716    0.5848    892642\n",
      "    relevant     0.9237    0.8641    0.8929   4107665\n",
      "\n",
      "    accuracy                         0.8297   5000307\n",
      "   macro avg     0.7208    0.7679    0.7388   5000307\n",
      "weighted avg     0.8513    0.8297    0.8379   5000307\n",
      "\n"
     ]
    }
   ],
   "source": [
    "from sklearn.metrics import classification_report\n",
    "print(classification_report(y_true, y_pred, digits=4))"
   ]
  },
  {
   "cell_type": "markdown",
   "metadata": {},
   "source": [
    "### Classification Report Baseline Model"
   ]
  },
  {
   "cell_type": "code",
   "execution_count": 83,
   "metadata": {},
   "outputs": [],
   "source": [
    "pdrs_mod_def = predictions_default.withColumn(\"rating_class\",when(col(\"rating\") >= 3, \"relevant\").otherwise(\"non_relevant\"))\\\n",
    "               .withColumn(\"pred_class\",when(col(\"prediction\") >= 3, \"relevant\").otherwise(\"non_relevant\"))"
   ]
  },
  {
   "cell_type": "code",
   "execution_count": 84,
   "metadata": {},
   "outputs": [],
   "source": [
    "pdrs_mod_def_pd = pdrs_mod_def.toPandas()"
   ]
  },
  {
   "cell_type": "code",
   "execution_count": 85,
   "metadata": {},
   "outputs": [],
   "source": [
    "y_true_def = pdrs_mod_def_pd.rating_class\n",
    "y_pred_def = pdrs_mod_def_pd.pred_class"
   ]
  },
  {
   "cell_type": "code",
   "execution_count": 86,
   "metadata": {},
   "outputs": [
    {
     "name": "stdout",
     "output_type": "stream",
     "text": [
      "              precision    recall  f1-score   support\n",
      "\n",
      "non_relevant     0.2078    0.9746    0.3426    892642\n",
      "    relevant     0.9722    0.1928    0.3218   4107665\n",
      "\n",
      "    accuracy                         0.3324   5000307\n",
      "   macro avg     0.5900    0.5837    0.3322   5000307\n",
      "weighted avg     0.8358    0.3324    0.3255   5000307\n",
      "\n"
     ]
    }
   ],
   "source": [
    "from sklearn.metrics import classification_report\n",
    "print(classification_report(y_true_def, y_pred_def, digits=4))"
   ]
  }
 ],
 "metadata": {
  "kernelspec": {
   "display_name": "Python 3",
   "language": "python",
   "name": "python3"
  },
  "language_info": {
   "codemirror_mode": {
    "name": "ipython",
    "version": 3
   },
   "file_extension": ".py",
   "mimetype": "text/x-python",
   "name": "python",
   "nbconvert_exporter": "python",
   "pygments_lexer": "ipython3",
   "version": "3.8.8"
  }
 },
 "nbformat": 4,
 "nbformat_minor": 4
}
